{
 "cells": [
  {
   "attachments": {},
   "cell_type": "markdown",
   "metadata": {},
   "source": [
    "# Data Exploration"
   ]
  },
  {
   "attachments": {},
   "cell_type": "markdown",
   "metadata": {},
   "source": [
    "## Initialise code for google colab\n"
   ]
  },
  {
   "attachments": {},
   "cell_type": "markdown",
   "metadata": {},
   "source": [
    "### Mount google drive"
   ]
  },
  {
   "cell_type": "code",
   "execution_count": null,
   "metadata": {},
   "outputs": [
    {
     "name": "stdout",
     "output_type": "stream",
     "text": [
      "Mounted at /content/drive\n"
     ]
    }
   ],
   "source": [
    "from google.colab import drive\n",
    "drive.mount('/content/drive', force_remount=True)\n"
   ]
  },
  {
   "attachments": {},
   "cell_type": "markdown",
   "metadata": {},
   "source": [
    "### Create data base files under google colab environment"
   ]
  },
  {
   "cell_type": "code",
   "execution_count": null,
   "metadata": {},
   "outputs": [],
   "source": [
    "!rm -rf /content/data/"
   ]
  },
  {
   "cell_type": "code",
   "execution_count": null,
   "metadata": {},
   "outputs": [],
   "source": [
    "!unzip -q '/content/drive/MyDrive/data.zip' -d '/content/'"
   ]
  },
  {
   "attachments": {},
   "cell_type": "markdown",
   "metadata": {},
   "source": [
    "For Mac because archive made on mac create a __MACOSX folder"
   ]
  },
  {
   "cell_type": "code",
   "execution_count": null,
   "metadata": {},
   "outputs": [],
   "source": [
    "%rm -rf /content/__MACOSX"
   ]
  },
  {
   "attachments": {},
   "cell_type": "markdown",
   "metadata": {},
   "source": [
    "## Define working directory to our jupyter repertory:\n",
    "* cd to jupyter directory fo import, input and output storage\n",
    "* db_work_dir for image database root\n"
   ]
  },
  {
   "cell_type": "code",
   "execution_count": null,
   "metadata": {},
   "outputs": [
    {
     "name": "stdout",
     "output_type": "stream",
     "text": [
      "/content/drive/MyDrive/inarix/jupyter\n"
     ]
    }
   ],
   "source": [
    "# for google colab use\n",
    "%cd /content/drive/MyDrive/inarix/jupyter\n",
    "db_work_dir = '/content'"
   ]
  },
  {
   "cell_type": "code",
   "execution_count": 7,
   "metadata": {},
   "outputs": [],
   "source": [
    "# for local use\n",
    "db_work_dir = '..'"
   ]
  },
  {
   "attachments": {},
   "cell_type": "markdown",
   "metadata": {},
   "source": [
    "## Process"
   ]
  },
  {
   "cell_type": "code",
   "execution_count": 24,
   "metadata": {},
   "outputs": [],
   "source": [
    "import _mypath\n",
    "import os\n",
    "import shutil\n",
    "import cv2\n",
    "import matplotlib.pyplot as plt\n",
    "%matplotlib inline\n",
    "import seaborn as sns\n",
    "import pandas as pd\n",
    "\n",
    "from database.data_path import build_data_paths "
   ]
  },
  {
   "attachments": {},
   "cell_type": "markdown",
   "metadata": {},
   "source": [
    "### Parameters"
   ]
  },
  {
   "cell_type": "code",
   "execution_count": 26,
   "metadata": {},
   "outputs": [],
   "source": [
    "image_size = 512\n",
    "\n",
    "data_name = \"data\"\n",
    "data_split_name = \"data_split\"\n",
    "\n",
    "data_dir = os.path.join(db_work_dir, data_name)\n",
    "\n",
    "data_split_dir = os.path.join(db_work_dir, data_split_name)\n",
    "if not os.path.exists(data_split_dir):\n",
    "    os.makedirs(data_split_dir, exist_ok=True)\n",
    "\n",
    "grain_types = [\"barley\", \"corn\", \"hard_wheat\", \"soft_wheat\", \"mix\"]\n",
    "devices = [\"device1\", \"device2\"]\n",
    "\n",
    "# output\n",
    "output_path = os.path.join('..', 'output', 'data_exploration')\n",
    "if not os.path.exists(output_path):\n",
    "    os.makedirs(output_path, exist_ok=True)\n",
    "\n"
   ]
  },
  {
   "attachments": {},
   "cell_type": "markdown",
   "metadata": {},
   "source": [
    "### Build data paths"
   ]
  },
  {
   "cell_type": "code",
   "execution_count": 15,
   "metadata": {},
   "outputs": [
    {
     "name": "stdout",
     "output_type": "stream",
     "text": [
      "['../data/barley_device1', '../data/barley_device2', '../data/corn_device1', '../data/hard_wheat_device1', '../data/soft_wheat_device1', '../data/soft_wheat_device2', '../data/mix_device1']\n"
     ]
    }
   ],
   "source": [
    "\n",
    "data_paths, _ = build_data_paths(data_dir, grain_types, devices)\n",
    "print(data_paths)"
   ]
  },
  {
   "attachments": {},
   "cell_type": "markdown",
   "metadata": {},
   "source": [
    "### Equalize histogramm functions"
   ]
  },
  {
   "cell_type": "code",
   "execution_count": 6,
   "metadata": {},
   "outputs": [],
   "source": [
    "def equalize_bright(img):\n",
    "# convert from RGB color-space to YCrCb\n",
    "    ycrcb_img = cv2.cvtColor(img, cv2.COLOR_BGR2YCrCb)\n",
    "\n",
    "    # equalize the histogram of the Y channel\n",
    "    ycrcb_img[:, :, 0] = cv2.equalizeHist(ycrcb_img[:, :, 0])\n",
    "\n",
    "    # convert back to RGB color-space from YCrCb\n",
    "    equalized_img = cv2.cvtColor(ycrcb_img, cv2.COLOR_YCrCb2BGR)\n",
    "\n",
    "    return equalized_img\n",
    "\n",
    "def equalize_bw(img):\n",
    "# convert from RGB color-space to gray\n",
    "    bw_img = cv2.cvtColor(img, cv2.COLOR_BGR2GRAY)\n",
    "\n",
    "    # equalize the histogram of the gray channel\n",
    "    bw_img = cv2.equalizeHist(bw_img)\n",
    "\n",
    "    # convert back to RGB color-space from YCrCb\n",
    "    equalized_img = cv2.cvtColor(bw_img, cv2.COLOR_GRAY2BGR)\n",
    "\n",
    "    return equalized_img"
   ]
  },
  {
   "attachments": {},
   "cell_type": "markdown",
   "metadata": {},
   "source": [
    "### Split data base images\n",
    "\n",
    "* equalize histogram on black and white images\n",
    "* extract subimages of size M by N\n",
    "* save subimages as rgb with 3 identical channels in new database"
   ]
  },
  {
   "cell_type": "code",
   "execution_count": 41,
   "metadata": {},
   "outputs": [],
   "source": [
    "M = image_size\n",
    "N = image_size\n",
    "for path in data_paths:\n",
    "    new_path = path.replace(data_name, data_split_name)\n",
    "    if not os.path.exists(new_path):\n",
    "        os.makedirs(new_path, exist_ok=True)\n",
    "\n",
    "    files = [f for f in os.listdir(path) if f[-4:] == \".jpg\"]\n",
    "    for f in files:\n",
    "        f_name = f[:-4]\n",
    "        img = cv2.imread(os.path.join(path, f))\n",
    "        img = equalize_bw(img)\n",
    "        tiles = [img[x:x+M,y:y+N] for x in range(0,img.shape[0]-M,M) for y in range(0,img.shape[1]-N,N)]\n",
    "\n",
    "        shape =  img.shape\n",
    "        n_row = (shape[0] - M) // M\n",
    "        n_col = (shape[1] - N) // N\n",
    "        i = 0\n",
    "        for r in range(n_row):\n",
    "            for c in range(n_col):\n",
    "                img = tiles[i]\n",
    "                i += 1\n",
    "                cv2.imwrite(os.path.join(new_path, f_name + \"_\" + str(r) + \"_\" + str(c) + \".jpg\"), img)\n",
    "            \n",
    "\n"
   ]
  },
  {
   "attachments": {},
   "cell_type": "markdown",
   "metadata": {},
   "source": [
    "### Sizes of original images histogram"
   ]
  },
  {
   "cell_type": "code",
   "execution_count": 16,
   "metadata": {},
   "outputs": [
    {
     "name": "stdout",
     "output_type": "stream",
     "text": [
      "../data/barley_device1\n",
      "../data/barley_device2\n",
      "../data/corn_device1\n",
      "../data/hard_wheat_device1\n",
      "../data/soft_wheat_device1\n",
      "../data/soft_wheat_device2\n",
      "../data/mix_device1\n"
     ]
    }
   ],
   "source": [
    "height = []\n",
    "width = []\n",
    "rate = []\n",
    "for path in data_paths:\n",
    "    print(path)\n",
    "    files = [f for f in os.listdir(path) if f[-4:] == \".jpg\"]\n",
    "    for f in files:\n",
    "        img = cv2.imread(os.path.join(path, f))\n",
    "        shape = img.shape\n",
    "        height.append(shape[0])\n",
    "        width.append(shape[1])\n",
    "        rate.append(shape[1] / shape[0])\n"
   ]
  },
  {
   "cell_type": "code",
   "execution_count": 28,
   "metadata": {},
   "outputs": [
    {
     "data": {
      "image/png": "[encoded data removed]",
      "text/plain": [
       "<Figure size 640x480 with 2 Axes>"
      ]
     },
     "metadata": {},
     "output_type": "display_data"
    }
   ],
   "source": [
    "df = pd.DataFrame(list(zip(height, width, rate)), columns=['height', 'width', 'rate'])\n",
    "sns.histplot(df, x=\"width\", y=\"height\", cbar=True)\n",
    "plt.savefig(os.path.join(output_path, 'size_distribution.png'), format='png')\n",
    "plt.show()"
   ]
  },
  {
   "cell_type": "code",
   "execution_count": 29,
   "metadata": {},
   "outputs": [
    {
     "data": {
      "image/png": "[encoded data removed]",
      "text/plain": [
       "<Figure size 640x480 with 1 Axes>"
      ]
     },
     "metadata": {},
     "output_type": "display_data"
    }
   ],
   "source": [
    "sns.histplot(rate)\n",
    "plt.savefig(os.path.join(output_path, 'rate_distribution.png'), format='png')\n",
    "plt.show()"
   ]
  },
  {
   "attachments": {},
   "cell_type": "markdown",
   "metadata": {},
   "source": [
    "## Modify mix repository content\n",
    "\n",
    "* Move subimages from each image in a repository with image's name\n",
    "* copy labels.csv"
   ]
  },
  {
   "cell_type": "code",
   "execution_count": 34,
   "metadata": {},
   "outputs": [
    {
     "name": "stdout",
     "output_type": "stream",
     "text": [
      "['../data/mix_device1']\n",
      "../data/mix_device1/labels.csv\n",
      "['../data_split/mix_device1']\n",
      "../data_split/mix_device1/labels.csv\n"
     ]
    },
    {
     "data": {
      "text/html": [
       "<div>\n",
       "<style scoped>\n",
       "    .dataframe tbody tr th:only-of-type {\n",
       "        vertical-align: middle;\n",
       "    }\n",
       "\n",
       "    .dataframe tbody tr th {\n",
       "        vertical-align: top;\n",
       "    }\n",
       "\n",
       "    .dataframe thead th {\n",
       "        text-align: right;\n",
       "    }\n",
       "</style>\n",
       "<table border=\"1\" class=\"dataframe\">\n",
       "  <thead>\n",
       "    <tr style=\"text-align: right;\">\n",
       "      <th></th>\n",
       "      <th>image_id</th>\n",
       "      <th>specie_pct_label</th>\n",
       "    </tr>\n",
       "  </thead>\n",
       "  <tbody>\n",
       "    <tr>\n",
       "      <th>0</th>\n",
       "      <td>84293a4a-3bf0-4496-a97e-db42affd1d6a</td>\n",
       "      <td>{'barley': 92, 'soft_wheat': 8}</td>\n",
       "    </tr>\n",
       "    <tr>\n",
       "      <th>1</th>\n",
       "      <td>da4deef4-b9cc-4616-851e-0dd8f6fabf13</td>\n",
       "      <td>{'soft_wheat': 81, 'barley': 19}</td>\n",
       "    </tr>\n",
       "    <tr>\n",
       "      <th>2</th>\n",
       "      <td>f6e2b462-8f1a-473a-8c9a-6750284b7de4</td>\n",
       "      <td>{'barley': 77, 'soft_wheat': 23}</td>\n",
       "    </tr>\n",
       "    <tr>\n",
       "      <th>3</th>\n",
       "      <td>babedc24-c2e7-4225-8e25-0968c81a646b</td>\n",
       "      <td>{'barley': 77, 'soft_wheat': 23}</td>\n",
       "    </tr>\n",
       "    <tr>\n",
       "      <th>4</th>\n",
       "      <td>33b22209-1890-415c-8919-7fd847506ac7</td>\n",
       "      <td>{'soft_wheat': 94, 'barley': 6}</td>\n",
       "    </tr>\n",
       "  </tbody>\n",
       "</table>\n",
       "</div>"
      ],
      "text/plain": [
       "                                image_id                  specie_pct_label\n",
       "0  84293a4a-3bf0-4496-a97e-db42affd1d6a    {'barley': 92, 'soft_wheat': 8}\n",
       "1  da4deef4-b9cc-4616-851e-0dd8f6fabf13   {'soft_wheat': 81, 'barley': 19}\n",
       "2  f6e2b462-8f1a-473a-8c9a-6750284b7de4   {'barley': 77, 'soft_wheat': 23}\n",
       "3  babedc24-c2e7-4225-8e25-0968c81a646b   {'barley': 77, 'soft_wheat': 23}\n",
       "4  33b22209-1890-415c-8919-7fd847506ac7    {'soft_wheat': 94, 'barley': 6}"
      ]
     },
     "execution_count": 34,
     "metadata": {},
     "output_type": "execute_result"
    }
   ],
   "source": [
    "mix_types = [\"mix\"]\n",
    "\n",
    "data_mix_path, _ = build_data_paths(data_dir, mix_types, [\"device1\"])\n",
    "print(data_mix_path)\n",
    "data_mix_path = data_mix_path[0]\n",
    "\n",
    "df_mix_path = os.path.join(data_mix_path, \"labels.csv\")\n",
    "print(df_mix_path)\n",
    "\n",
    "data_split_mix_path, _ = build_data_paths(data_split_dir, mix_types, [\"device1\"])\n",
    "print(data_split_mix_path)\n",
    "data_split_mix_path = data_split_mix_path[0]\n",
    "\n",
    "new_df_mix_path = os.path.join(data_split_mix_path, \"labels.csv\")\n",
    "print(new_df_mix_path)\n",
    "\n",
    "if not os.path.exists(data_split_mix_path):\n",
    "    os.makedirs(data_split_mix_path, exist_ok=True)\n",
    "shutil.copy(df_mix_path, new_df_mix_path)\n",
    "\n",
    "df_mix = pd.read_csv(df_mix_path, sep=';')\n",
    "df_mix.head()\n"
   ]
  },
  {
   "cell_type": "code",
   "execution_count": 27,
   "metadata": {},
   "outputs": [
    {
     "name": "stdout",
     "output_type": "stream",
     "text": [
      "84293a4a-3bf0-4496-a97e-db42affd1d6a\n",
      "da4deef4-b9cc-4616-851e-0dd8f6fabf13\n",
      "f6e2b462-8f1a-473a-8c9a-6750284b7de4\n",
      "babedc24-c2e7-4225-8e25-0968c81a646b\n",
      "33b22209-1890-415c-8919-7fd847506ac7\n",
      "27da3522-fc54-47e7-9025-9e77187d76af\n",
      "b4eafb18-e6cf-45cb-b185-0db4f1eef9f2\n",
      "75a205c9-36ad-4233-99e9-e2538212dad8\n",
      "8c5a86c5-d015-48a5-9877-c8659bf3677a\n",
      "65893dab-d585-4313-b75e-bec8c5cd1794\n",
      "03e08cf4-faaf-4d97-8b54-a4c3905cae2e\n",
      "63ecf334-1b39-48df-8a48-cf3047a9516d\n",
      "abd06ff4-4ea1-4577-8627-7da841cc1f82\n",
      "cba0538f-e52c-4053-801a-e2796c263969\n",
      "55464dd4-c943-4fea-af03-86e87a0cf036\n",
      "370d9b14-cbe5-4dc8-acf6-662df92448fa\n",
      "eda51889-e378-4f95-991e-8cc2d064832c\n",
      "b9995bae-af6a-4749-a9fa-10d8ce4395bb\n"
     ]
    }
   ],
   "source": [
    "import re\n",
    "\n",
    "for image_id in df_mix['image_id']:\n",
    "    image_id = image_id.strip()\n",
    "    print(image_id)\n",
    "\n",
    "    id_path = os.path.join(data_split_mix_path, image_id)\n",
    "    if not os.path.exists(id_path):\n",
    "        os.makedirs(id_path, exist_ok=True)\n",
    "    \n",
    "    files = [f for f in os.listdir(data_split_mix_path) if (re.match(image_id, f) and f[-4:] == \".jpg\")]\n",
    "    # print(files)\n",
    "\n",
    "    full_file_name_in = [os.path.join(data_split_mix_path, f) for f in files]\n",
    "    full_file_name_out = [os.path.join(id_path, f) for f in files]\n",
    "\n",
    "    for src, dest in zip(full_file_name_in, full_file_name_out):\n",
    "        shutil.move(src, dest)\n"
   ]
  },
  {
   "attachments": {},
   "cell_type": "markdown",
   "metadata": {},
   "source": [
    "zip new data base"
   ]
  },
  {
   "cell_type": "code",
   "execution_count": null,
   "metadata": {},
   "outputs": [],
   "source": [
    "# for google colab\n",
    "!zip -r '/content/data_split.zip' '/content/data_split'"
   ]
  }
 ],
 "metadata": {
  "kernelspec": {
   "display_name": "inarix-PNHHY2Cu",
   "language": "python",
   "name": "python3"
  },
  "language_info": {
   "codemirror_mode": {
    "name": "ipython",
    "version": 3
   },
   "file_extension": ".py",
   "mimetype": "text/x-python",
   "name": "python",
   "nbconvert_exporter": "python",
   "pygments_lexer": "ipython3",
   "version": "3.10.11"
  },
  "orig_nbformat": 4
 },
 "nbformat": 4,
 "nbformat_minor": 2
}
